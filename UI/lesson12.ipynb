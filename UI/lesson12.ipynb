{
 "cells": [
  {
   "cell_type": "code",
   "execution_count": 1,
   "metadata": {},
   "outputs": [
    {
     "name": "stdout",
     "output_type": "stream",
     "text": [
      "下載成功\n",
      "[{'date': '2024-1-24 15:43:8', 'address': 'chicken_KFC', 'temperature': 26.10811, 'light': 11026.0}, {'date': '2024-1-24 15:43:14', 'address': 'chicken_KFC', 'temperature': 26.10811, 'light': 10658.0}, {'date': '2024-1-24 15:43:21', 'address': 'chicken_KFC', 'temperature': 26.10811, 'light': 11026.0}, {'date': '2024-1-24 15:43:51', 'address': 'chicken_KFC', 'temperature': 25.63997, 'light': 10498.0}, {'date': '2024-1-24 15:43:55', 'address': 'chicken_KFC', 'temperature': 26.10811, 'light': 10882.0}]\n"
     ]
    }
   ],
   "source": [
    "import requests\n",
    "\n",
    "url = 'https://openapi-lizv.onrender.com/pico_w/?count=5'\n",
    "\n",
    "r = requests.get(url=url)\n",
    "\n",
    "if r.status_code == 200:\n",
    "    print(\"下載成功\")\n",
    "    data = r.json()\n",
    "\n",
    "print(data)"
   ]
  }
 ],
 "metadata": {
  "kernelspec": {
   "display_name": ".venv",
   "language": "python",
   "name": "python3"
  },
  "language_info": {
   "codemirror_mode": {
    "name": "ipython",
    "version": 3
   },
   "file_extension": ".py",
   "mimetype": "text/x-python",
   "name": "python",
   "nbconvert_exporter": "python",
   "pygments_lexer": "ipython3",
   "version": "3.10.8"
  }
 },
 "nbformat": 4,
 "nbformat_minor": 2
}
