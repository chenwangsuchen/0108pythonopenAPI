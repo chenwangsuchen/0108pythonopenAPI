{
 "cells": [
  {
   "cell_type": "code",
   "execution_count": 1,
   "metadata": {},
   "outputs": [
    {
     "name": "stdout",
     "output_type": "stream",
     "text": [
      "下載成功\n",
      "[{'date': '2024-1-24 15:42:33', 'address': 'chicken_KFC', 'temperature': 25.63997, 'light': 10786.0}, {'date': '2024-1-24 15:42:39', 'address': 'chicken_KFC', 'temperature': 26.10811, 'light': 10338.0}, {'date': '2024-1-24 15:42:52', 'address': 'chicken_KFC', 'temperature': 26.10811, 'light': 11010.0}, {'date': '2024-1-24 15:42:59', 'address': 'chicken_KFC', 'temperature': 26.10811, 'light': 10914.0}, {'date': '2024-1-24 15:43:4', 'address': 'chicken_KFC', 'temperature': 26.10811, 'light': 10818.0}, {'date': '2024-1-24 15:43:8', 'address': 'chicken_KFC', 'temperature': 26.10811, 'light': 11026.0}, {'date': '2024-1-24 15:43:14', 'address': 'chicken_KFC', 'temperature': 26.10811, 'light': 10658.0}, {'date': '2024-1-24 15:43:21', 'address': 'chicken_KFC', 'temperature': 26.10811, 'light': 11026.0}, {'date': '2024-1-24 15:43:51', 'address': 'chicken_KFC', 'temperature': 25.63997, 'light': 10498.0}, {'date': '2024-1-24 15:43:55', 'address': 'chicken_KFC', 'temperature': 26.10811, 'light': 10882.0}]\n"
     ]
    }
   ],
   "source": [
    "import requests\n",
    "\n",
    "url = 'https://openapi-lizv.onrender.com/pico_w/?count=10'\n",
    "\n",
    "r = requests.get(url=url)\n",
    "\n",
    "if r.status_code == 200:\n",
    "    print(\"下載成功\")\n",
    "    data = r.json()\n",
    "\n",
    "print(data)"
   ]
  },
  {
   "cell_type": "code",
   "execution_count": 2,
   "metadata": {},
   "outputs": [
    {
     "data": {
      "text/html": [
       "<div>\n",
       "<style scoped>\n",
       "    .dataframe tbody tr th:only-of-type {\n",
       "        vertical-align: middle;\n",
       "    }\n",
       "\n",
       "    .dataframe tbody tr th {\n",
       "        vertical-align: top;\n",
       "    }\n",
       "\n",
       "    .dataframe thead th {\n",
       "        text-align: right;\n",
       "    }\n",
       "</style>\n",
       "<table border=\"1\" class=\"dataframe\">\n",
       "  <thead>\n",
       "    <tr style=\"text-align: right;\">\n",
       "      <th></th>\n",
       "      <th>date</th>\n",
       "      <th>address</th>\n",
       "      <th>temperature</th>\n",
       "      <th>light</th>\n",
       "    </tr>\n",
       "  </thead>\n",
       "  <tbody>\n",
       "    <tr>\n",
       "      <th>0</th>\n",
       "      <td>2024-1-24 15:42:33</td>\n",
       "      <td>chicken_KFC</td>\n",
       "      <td>25.63997</td>\n",
       "      <td>10786.0</td>\n",
       "    </tr>\n",
       "    <tr>\n",
       "      <th>1</th>\n",
       "      <td>2024-1-24 15:42:39</td>\n",
       "      <td>chicken_KFC</td>\n",
       "      <td>26.10811</td>\n",
       "      <td>10338.0</td>\n",
       "    </tr>\n",
       "    <tr>\n",
       "      <th>2</th>\n",
       "      <td>2024-1-24 15:42:52</td>\n",
       "      <td>chicken_KFC</td>\n",
       "      <td>26.10811</td>\n",
       "      <td>11010.0</td>\n",
       "    </tr>\n",
       "    <tr>\n",
       "      <th>3</th>\n",
       "      <td>2024-1-24 15:42:59</td>\n",
       "      <td>chicken_KFC</td>\n",
       "      <td>26.10811</td>\n",
       "      <td>10914.0</td>\n",
       "    </tr>\n",
       "    <tr>\n",
       "      <th>4</th>\n",
       "      <td>2024-1-24 15:43:4</td>\n",
       "      <td>chicken_KFC</td>\n",
       "      <td>26.10811</td>\n",
       "      <td>10818.0</td>\n",
       "    </tr>\n",
       "    <tr>\n",
       "      <th>5</th>\n",
       "      <td>2024-1-24 15:43:8</td>\n",
       "      <td>chicken_KFC</td>\n",
       "      <td>26.10811</td>\n",
       "      <td>11026.0</td>\n",
       "    </tr>\n",
       "    <tr>\n",
       "      <th>6</th>\n",
       "      <td>2024-1-24 15:43:14</td>\n",
       "      <td>chicken_KFC</td>\n",
       "      <td>26.10811</td>\n",
       "      <td>10658.0</td>\n",
       "    </tr>\n",
       "    <tr>\n",
       "      <th>7</th>\n",
       "      <td>2024-1-24 15:43:21</td>\n",
       "      <td>chicken_KFC</td>\n",
       "      <td>26.10811</td>\n",
       "      <td>11026.0</td>\n",
       "    </tr>\n",
       "    <tr>\n",
       "      <th>8</th>\n",
       "      <td>2024-1-24 15:43:51</td>\n",
       "      <td>chicken_KFC</td>\n",
       "      <td>25.63997</td>\n",
       "      <td>10498.0</td>\n",
       "    </tr>\n",
       "    <tr>\n",
       "      <th>9</th>\n",
       "      <td>2024-1-24 15:43:55</td>\n",
       "      <td>chicken_KFC</td>\n",
       "      <td>26.10811</td>\n",
       "      <td>10882.0</td>\n",
       "    </tr>\n",
       "  </tbody>\n",
       "</table>\n",
       "</div>"
      ],
      "text/plain": [
       "                 date      address  temperature    light\n",
       "0  2024-1-24 15:42:33  chicken_KFC     25.63997  10786.0\n",
       "1  2024-1-24 15:42:39  chicken_KFC     26.10811  10338.0\n",
       "2  2024-1-24 15:42:52  chicken_KFC     26.10811  11010.0\n",
       "3  2024-1-24 15:42:59  chicken_KFC     26.10811  10914.0\n",
       "4   2024-1-24 15:43:4  chicken_KFC     26.10811  10818.0\n",
       "5   2024-1-24 15:43:8  chicken_KFC     26.10811  11026.0\n",
       "6  2024-1-24 15:43:14  chicken_KFC     26.10811  10658.0\n",
       "7  2024-1-24 15:43:21  chicken_KFC     26.10811  11026.0\n",
       "8  2024-1-24 15:43:51  chicken_KFC     25.63997  10498.0\n",
       "9  2024-1-24 15:43:55  chicken_KFC     26.10811  10882.0"
      ]
     },
     "execution_count": 2,
     "metadata": {},
     "output_type": "execute_result"
    }
   ],
   "source": [
    "import pandas as pd\n",
    "\n",
    "dataFrame = pd.DataFrame(data)\n",
    "dataFrame"
   ]
  }
 ],
 "metadata": {
  "kernelspec": {
   "display_name": ".venv",
   "language": "python",
   "name": "python3"
  },
  "language_info": {
   "codemirror_mode": {
    "name": "ipython",
    "version": 3
   },
   "file_extension": ".py",
   "mimetype": "text/x-python",
   "name": "python",
   "nbconvert_exporter": "python",
   "pygments_lexer": "ipython3",
   "version": "3.10.8"
  }
 },
 "nbformat": 4,
 "nbformat_minor": 2
}
